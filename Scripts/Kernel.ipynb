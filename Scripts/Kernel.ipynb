{
 "cells": [
  {
   "cell_type": "markdown",
   "metadata": {},
   "source": [
    "## This script was developed for:\n",
    "#### Zhu, F. and B.E.J. Rose. (2022). Multiple Equilibria in a Coupled Climate-Carbon Model. Journal of Climate. DOI: 10.1175/JCLI-D-21-0984.1\n",
    "\n",
    "Author of the script: *Fangze Zhu*\n",
    "\n",
    "University at Albany, State University of New York (SUNY)"
   ]
  },
  {
   "cell_type": "code",
   "execution_count": 9,
   "metadata": {},
   "outputs": [],
   "source": [
    "from glob import glob\n",
    "import os\n",
    "import numpy as np\n",
    "import matplotlib.pyplot as plt\n",
    "%matplotlib inline\n",
    "from netCDF4 import Dataset\n",
    "from numpy import dtype\n",
    "\n",
    "mitdir = '/nfs/home11/grad/2017/fz172169/MITgcm/utils/python/MITgcmutils'\n",
    "os.chdir(mitdir)\n",
    "import MITgcmutils as mit\n",
    "\n",
    "csdir = '/nfs/home11/grad/2017/fz172169/Documents/my_scripts'\n",
    "os.chdir(csdir)\n",
    "from cs import zonalKernel\n",
    "from cs import zonalAvg"
   ]
  },
  {
   "cell_type": "code",
   "execution_count": 10,
   "metadata": {},
   "outputs": [],
   "source": [
    "exp_warm = [#'warmT293_50',\n",
    "            #'warmT293_415',\n",
    "            #'warm_150',\n",
    "            'warm_test16_1050',\n",
    "            'warm_test16_1100',\n",
    "            'warm_test16_1150',\n",
    "            'warm_test16_1200',\n",
    "            'warm_test16_1250',\n",
    "            ]\n",
    "exp_cold = ['cold_800',\n",
    "            'cold_850',\n",
    "            'cold_900',\n",
    "            'cold_950',\n",
    "            'cold_1000',\n",
    "            ]\n",
    "exp_waterbelt = ['waterbelt_350',\n",
    "                 'waterbelt_400',\n",
    "                 #'waterbelt_410',\n",
    "                 #'waterbelt_420',\n",
    "                 #'waterbelt_430',\n",
    "                 #'waterbelt_440',\n",
    "                 'waterbelt_450',\n",
    "                 'waterbelt_500',\n",
    "                 'waterbelt_550',\n",
    "                 ]"
   ]
  },
  {
   "cell_type": "code",
   "execution_count": 11,
   "metadata": {},
   "outputs": [
    {
     "name": "stdout",
     "output_type": "stream",
     "text": [
      "[95000. 77500. 50000. 25000.  7500.]\n"
     ]
    }
   ],
   "source": [
    "dir = '/nfs/roselab_rit/mitgcm_run'\n",
    "rundir = os.path.join(dir, 'kernel')\n",
    "datadir = '/nfs/roselab_rit/mitgcm_output/kernel_data'\n",
    "\n",
    "grid_atm = mit.rdmnc(os.path.join(dir,'radCO2_warm_pco2','out/Cpl1/GridAtm/grid.*'))   # Read the grid\n",
    "global_area = np.sum(grid_atm['rA'])\n",
    "X = len(grid_atm['X'])\n",
    "Y = len(grid_atm['Y'])\n",
    "Z = len(grid_atm['Z'])\n",
    "print(grid_atm['Z'])"
   ]
  },
  {
   "cell_type": "code",
   "execution_count": 12,
   "metadata": {},
   "outputs": [],
   "source": [
    "def write_kernel(filename, varname, units, varout):\n",
    "\n",
    "    # open a netCDF file to write\n",
    "    ncout = Dataset(filename, 'w', format='NETCDF4')\n",
    "\n",
    "    # define axis size\n",
    "    ncout.createDimension('time', None)  # unlimited\n",
    "    if varout.ndim == 4:\n",
    "        if 'T' in varname:\n",
    "            ncout.createDimension('lev', Z)\n",
    "        if 'Q' in varname:\n",
    "            ncout.createDimension('lev', Z-1)\n",
    "    ncout.createDimension('lat', Y)\n",
    "    ncout.createDimension('lon', X)\n",
    "    \n",
    "    # create time axis\n",
    "    time = ncout.createVariable('time', dtype('double').char, ('time',))\n",
    "    time.long_name = 'month'\n",
    "\n",
    "    # create vertical axis\n",
    "    if varout.ndim == 4:\n",
    "        lev = ncout.createVariable('lev', dtype('double').char, ('lev',))\n",
    "        lev.long_name = 'vertical coordinate'\n",
    "        lev.units = 'hPa'\n",
    "\n",
    "    # create latitude axis\n",
    "    lat = ncout.createVariable('lat', dtype('double').char, ('lat',))\n",
    "    lat.long_name = 'latitude'\n",
    "    lat.units = 'degrees_north'\n",
    "\n",
    "    # create longitude axis\n",
    "    lon = ncout.createVariable('lon', dtype('double').char, ('lon',))\n",
    "    lon.long_name = 'longitude'\n",
    "    lon.units = 'degrees_east'\n",
    "\n",
    "    # create variable array\n",
    "    if varout.ndim == 4:\n",
    "        vout = ncout.createVariable(varname, dtype('double').char, ('time', 'lev', 'lat', 'lon',))\n",
    "    else:\n",
    "        vout = ncout.createVariable(varname, dtype('double').char, ('time', 'lat', 'lon',))\n",
    "    vout.units = units\n",
    "\n",
    "    # copy axis from original dataset\n",
    "    time[:] = np.arange(varout.shape[0])+1\n",
    "    if varout.ndim == 4:\n",
    "        if 'T' in varname:\n",
    "            lev[:] = grid_atm['Z'][0:Z]/100.\n",
    "        if 'Q' in varname:\n",
    "            lev[:] = grid_atm['Z'][0:Z-1]/100.\n",
    "    lat[:] = grid_atm['Y']\n",
    "    lon[:] = grid_atm['X']\n",
    "    vout[:] = varout\n",
    "\n",
    "    # close files\n",
    "    ncout.close()"
   ]
  },
  {
   "cell_type": "code",
   "execution_count": 13,
   "metadata": {},
   "outputs": [],
   "source": [
    "def read_kernel(filename, varname):\n",
    "    fname = filename\n",
    "    ncin = Dataset(fname, 'r', format='NETCDF4')\n",
    "    vin = ncin.variables[varname]\n",
    "    return vin[:]"
   ]
  },
  {
   "cell_type": "code",
   "execution_count": 14,
   "metadata": {},
   "outputs": [],
   "source": [
    "def calculate_kernel_T(state, deltaT, var, band):\n",
    "    kernel = np.zeros((12,Z,Y,X))\n",
    "    kernel_CLR = np.zeros((12,Z,Y,X))\n",
    "    ctrdir = os.path.join(rundir, 'kernel_ctr_'+state)\n",
    "    for k in range(Z):\n",
    "        kerdir = os.path.join(rundir, 'kernel_'+var+str(k+1)+'_'+state)\n",
    "        #nperiods = len(glob(kerdir+'/out/Cpl*'))\n",
    "        nperiods = 360\n",
    "        deltaR = np.zeros((nperiods,Y,X))\n",
    "        deltaR_CLR = np.zeros((nperiods,Y,X))\n",
    "        for n in range(nperiods):\n",
    "            DiagAim_ctr = mit.rdmnc(os.path.join(ctrdir, 'out', 'Cpl'+str(n+2), 'Atm/DiagAim.*'))\n",
    "            DiagAim_ker = mit.rdmnc(os.path.join(kerdir, 'out', 'Cpl'+str(n+1), 'Atm/DiagAim.*'))\n",
    "            if band == 'LW':\n",
    "                deltaR[n,:,:] = DiagAim_ker['OLR'] - DiagAim_ctr['OLR']\n",
    "                deltaR_CLR[n,:,:] = DiagAim_ker['OLRCLR'] - DiagAim_ctr['OLRCLR']\n",
    "            elif band == 'SW':\n",
    "                deltaR[n,:,:] = DiagAim_ker['TSR'] - DiagAim_ctr['TSR']\n",
    "                deltaR_CLR[n,:,:] = DiagAim_ker['TSRCLR'] - DiagAim_ctr['TSRCLR']\n",
    "        deltaR.resize(12,30,Y,X)\n",
    "        deltaR_CLR.resize(12,30,Y,X)\n",
    "        kernel[:,k,:,:] = np.mean(deltaR/deltaT, axis=1)\n",
    "        kernel_CLR[:,k,:,:] = np.mean(deltaR_CLR/deltaT, axis=1)\n",
    "    # Save kernels\n",
    "    try:\n",
    "        os.mkdir(os.path.join(datadir,'kernel',state))\n",
    "        os.chdir(os.path.join(datadir,'kernel',state))\n",
    "    except:\n",
    "        os.chdir(os.path.join(datadir,'kernel',state))\n",
    "    if band == 'LW':\n",
    "        write_kernel(filename='kernel_'+var+'_'+band+'_'+state+'.nc', \n",
    "                     varname='kernel_'+var+'_'+band, \n",
    "                     units='W/m2/K per 100hPa', \n",
    "                     varout=-kernel)\n",
    "        write_kernel(filename='kernel_'+var+'_'+band+'_CLR_'+state+'.nc', \n",
    "                     varname='kernel_'+var+'_'+band+'_CLR', \n",
    "                     units='W/m2/K per 100hPa', \n",
    "                     varout=-kernel_CLR)\n",
    "    elif band == 'SW':\n",
    "        write_kernel(filename='kernel_'+var+'_'+band+'_'+state+'.nc', \n",
    "                     varname='kernel_'+var+'_'+band, \n",
    "                     units='W/m2/K per 100hPa', \n",
    "                     varout=kernel)\n",
    "        write_kernel(filename='kernel_'+var+'_'+band+'_CLR_'+state+'.nc', \n",
    "                     varname='kernel_'+var+'_'+band+'_CLR', \n",
    "                     units='W/m2/K per 100hPa', \n",
    "                     varout=kernel_CLR)"
   ]
  },
  {
   "cell_type": "code",
   "execution_count": 15,
   "metadata": {},
   "outputs": [],
   "source": [
    "def calculate_kernel_Q(state, var, band, fraction):\n",
    "    kernel = np.zeros((12,Z-1,Y,X))\n",
    "    kernel_CLR = np.zeros((12,Z-1,Y,X))\n",
    "    ctrdir = os.path.join(rundir, 'kernel_ctr_'+state)\n",
    "    for k in range(Z-1):\n",
    "        kerdir = os.path.join(rundir, 'kernel_'+var+str(k+1)+'_'+state)\n",
    "        #nperiods = len(glob(kerdir+'/out/Cpl*'))\n",
    "        nperiods = 360\n",
    "        deltaR = np.zeros((nperiods,Y,X))\n",
    "        deltaR_CLR = np.zeros((nperiods,Y,X))\n",
    "        deltaQ = np.zeros((nperiods,Y,X))\n",
    "        for n in range(nperiods):\n",
    "            DiagAim_ctr = mit.rdmnc(os.path.join(ctrdir, 'out', 'Cpl'+str(n+2), 'Atm/DiagAim.*'))\n",
    "            DiagAim_ker = mit.rdmnc(os.path.join(kerdir, 'out', 'Cpl'+str(n+1), 'Atm/DiagAim.*'))\n",
    "            if band == 'LW':\n",
    "                deltaR[n,:,:] = DiagAim_ker['OLR'] - DiagAim_ctr['OLR']\n",
    "                deltaR_CLR[n,:,:] = DiagAim_ker['OLRCLR'] - DiagAim_ctr['OLRCLR']\n",
    "            elif band == 'SW':\n",
    "                deltaR[n,:,:] = DiagAim_ker['TSR'] - DiagAim_ctr['TSR']\n",
    "                deltaR_CLR[n,:,:] = DiagAim_ker['TSRCLR'] - DiagAim_ctr['TSRCLR']\n",
    "            DiagAtmTave_ctr = mit.rdmnc(os.path.join(ctrdir, 'out', 'Cpl'+str(n+2), 'Atm/DiagAtmTave.*'))\n",
    "            deltaQ[n,:,:] = DiagAtmTave_ctr['SALT'][:,k,:,:]*fraction\n",
    "        deltaR.resize(12,30,Y,X)\n",
    "        deltaR_CLR.resize(12,30,Y,X)\n",
    "        deltaQ.resize(12,30,Y,X)\n",
    "        kernel[:,k,:,:] = np.mean(deltaR/deltaQ, axis=1)\n",
    "        kernel_CLR[:,k,:,:] = np.mean(deltaR_CLR/deltaQ, axis=1)\n",
    "    # Save kernels\n",
    "    try:\n",
    "        os.mkdir(os.path.join(datadir,'kernel',state))\n",
    "        os.chdir(os.path.join(datadir,'kernel',state))\n",
    "    except:\n",
    "        os.chdir(os.path.join(datadir,'kernel',state))\n",
    "    if band == 'LW':\n",
    "        write_kernel(filename='kernel_'+var+'_'+band+'_'+state+'.nc', \n",
    "                     varname='kernel_'+var+'_'+band, \n",
    "                     units='W/m2/K per 100hPa', \n",
    "                     varout=-kernel)\n",
    "        write_kernel(filename='kernel_'+var+'_'+band+'_CLR_'+state+'.nc', \n",
    "                     varname='kernel_'+var+'_'+band+'_CLR', \n",
    "                     units='W/m2/K per 100hPa', \n",
    "                     varout=-kernel_CLR)\n",
    "    elif band == 'SW':\n",
    "        write_kernel(filename='kernel_'+var+'_'+band+'_'+state+'.nc', \n",
    "                     varname='kernel_'+var+'_'+band, \n",
    "                     units='W/m2/K per 100hPa', \n",
    "                     varout=kernel)\n",
    "        write_kernel(filename='kernel_'+var+'_'+band+'_CLR_'+state+'.nc', \n",
    "                     varname='kernel_'+var+'_'+band+'_CLR', \n",
    "                     units='W/m2/K per 100hPa', \n",
    "                     varout=kernel_CLR)"
   ]
  },
  {
   "cell_type": "code",
   "execution_count": 16,
   "metadata": {},
   "outputs": [],
   "source": [
    "def calculate_kernel_surfT(state, deltaT, var, band):\n",
    "    ctrdir = os.path.join(rundir, 'kernel_ctr_'+state)\n",
    "    kerdir = os.path.join(rundir, 'kernel_'+var+'_'+state)\n",
    "    #nperiods = len(glob(kerdir+'/out/Cpl*'))\n",
    "    nperiods = 360\n",
    "    deltaR = np.zeros((nperiods,Y,X))\n",
    "    deltaR_CLR = np.zeros((nperiods,Y,X))\n",
    "    for n in range(nperiods):\n",
    "        DiagAim_ctr = mit.rdmnc(os.path.join(ctrdir, 'out', 'Cpl'+str(n+2), 'Atm/DiagAim.*'))\n",
    "        DiagAim_ker = mit.rdmnc(os.path.join(kerdir, 'out', 'Cpl'+str(n+1), 'Atm/DiagAim.*'))\n",
    "        if band == 'LW':\n",
    "            deltaR[n,:,:] = DiagAim_ker['OLR'] - DiagAim_ctr['OLR']\n",
    "            deltaR_CLR[n,:,:] = DiagAim_ker['OLRCLR'] - DiagAim_ctr['OLRCLR']\n",
    "        elif band == 'SW':\n",
    "            deltaR[n,:,:] = DiagAim_ker['TSR'] - DiagAim_ctr['TSR']\n",
    "            deltaR_CLR[n,:,:] = DiagAim_ker['TSRCLR'] - DiagAim_ctr['TSRCLR']\n",
    "    deltaR.resize(12,30,Y,X)\n",
    "    deltaR_CLR.resize(12,30,Y,X)\n",
    "    kernel = np.mean(deltaR/deltaT, axis=1)\n",
    "    kernel_CLR = np.mean(deltaR_CLR/deltaT, axis=1)\n",
    "    # Save kernels\n",
    "    try:\n",
    "        os.mkdir(os.path.join(datadir,'kernel',state))\n",
    "        os.chdir(os.path.join(datadir,'kernel',state))\n",
    "    except:\n",
    "        os.chdir(os.path.join(datadir,'kernel',state))\n",
    "    if band == 'LW':\n",
    "        write_kernel(filename='kernel_'+var+'_'+band+'_'+state+'.nc', \n",
    "                     varname='kernel_'+var+'_'+band, \n",
    "                     units='W/m2/K', \n",
    "                     varout=-kernel)\n",
    "        write_kernel(filename='kernel_'+var+'_'+band+'_CLR_'+state+'.nc', \n",
    "                     varname='kernel_'+var+'_'+band+'_CLR', \n",
    "                     units='W/m2/K', \n",
    "                     varout=-kernel_CLR)\n",
    "    elif band == 'SW':\n",
    "        write_kernel(filename='kernel_'+var+'_'+band+'_'+state+'.nc', \n",
    "                     varname='kernel_'+var+'_'+band, \n",
    "                     units='W/m2/K', \n",
    "                     varout=kernel)\n",
    "        write_kernel(filename='kernel_'+var+'_'+band+'_CLR_'+state+'.nc', \n",
    "                     varname='kernel_'+var+'_'+band+'_CLR', \n",
    "                     units='W/m2/K', \n",
    "                     varout=kernel_CLR)"
   ]
  },
  {
   "cell_type": "code",
   "execution_count": 17,
   "metadata": {},
   "outputs": [],
   "source": [
    "def calculate_kernel_ALB(state, var, band):\n",
    "    ctrdir = os.path.join(rundir, 'kernel_ctr_'+state)\n",
    "    kerdir = os.path.join(rundir, 'kernel_'+var+'_'+state)\n",
    "    #nperiods = len(glob(kerdir+'/out/Cpl*'))\n",
    "    nperiods = 360\n",
    "    deltaR = np.zeros((nperiods,Y,X))\n",
    "    deltaR_CLR = np.zeros((nperiods,Y,X))\n",
    "    delta_ALB = np.zeros((nperiods,Y,X))\n",
    "    for n in range(nperiods):\n",
    "        DiagAim_ctr = mit.rdmnc(os.path.join(ctrdir, 'out', 'Cpl'+str(n+2), 'Atm/DiagAim.*'))\n",
    "        DiagAim_ker = mit.rdmnc(os.path.join(kerdir, 'out', 'Cpl'+str(n+1), 'Atm/DiagAim.*'))\n",
    "        if band == 'LW':\n",
    "            deltaR[n,:,:] = DiagAim_ker['OLR'] - DiagAim_ctr['OLR']\n",
    "            deltaR_CLR[n,:,:] = DiagAim_ker['OLRCLR'] - DiagAim_ctr['OLRCLR']\n",
    "        elif band == 'SW':\n",
    "            deltaR[n,:,:] = DiagAim_ker['TSR'] - DiagAim_ctr['TSR']\n",
    "            deltaR_CLR[n,:,:] = DiagAim_ker['TSRCLR'] - DiagAim_ctr['TSRCLR']\n",
    "        #delta_ALB[n,:,:] = DiagAim_ctr['ALBVISDF']*0.01\n",
    "        delta_ALB[n,:,:] = 0.01\n",
    "    deltaR.resize(12,30,Y,X)\n",
    "    deltaR_CLR.resize(12,30,Y,X)\n",
    "    delta_ALB.resize(12,30,Y,X)\n",
    "    kernel = np.mean(deltaR/delta_ALB, axis=1)\n",
    "    kernel_CLR = np.mean(deltaR_CLR/delta_ALB, axis=1)\n",
    "    # Save kernels\n",
    "    try:\n",
    "        os.mkdir(os.path.join(datadir,'kernel',state))\n",
    "        os.chdir(os.path.join(datadir,'kernel',state))\n",
    "    except:\n",
    "        os.chdir(os.path.join(datadir,'kernel',state))\n",
    "    if band == 'LW':\n",
    "        write_kernel(filename='kernel_'+var+'_'+band+'_'+state+'.nc', \n",
    "                     varname='kernel_'+var+'_'+band, \n",
    "                     units='W/m2/K', \n",
    "                     varout=-kernel)\n",
    "        write_kernel(filename='kernel_'+var+'_'+band+'_CLR_'+state+'.nc', \n",
    "                     varname='kernel_'+var+'_'+band+'_CLR', \n",
    "                     units='W/m2/K', \n",
    "                     varout=-kernel_CLR)\n",
    "    elif band == 'SW':\n",
    "        write_kernel(filename='kernel_'+var+'_'+band+'_'+state+'.nc', \n",
    "                     varname='kernel_'+var+'_'+band, \n",
    "                     units='W/m2/K', \n",
    "                     varout=kernel)\n",
    "        write_kernel(filename='kernel_'+var+'_'+band+'_CLR_'+state+'.nc', \n",
    "                     varname='kernel_'+var+'_'+band+'_CLR', \n",
    "                     units='W/m2/K', \n",
    "                     varout=kernel_CLR)"
   ]
  },
  {
   "cell_type": "code",
   "execution_count": 18,
   "metadata": {},
   "outputs": [],
   "source": [
    "def calculate_kernel_CO2(state, var, band):\n",
    "    ctrdir = os.path.join(rundir, 'kernel_ctr_'+state)\n",
    "    kerdir = os.path.join(rundir, 'kernel_'+var+'_'+state)\n",
    "    #nperiods = len(glob(kerdir+'/out/Cpl*'))\n",
    "    nperiods = 360\n",
    "    deltaR = np.zeros((nperiods,Y,X))\n",
    "    deltaR_CLR = np.zeros((nperiods,Y,X))\n",
    "    delta_CO2 = np.zeros((nperiods,Y,X))\n",
    "    for n in range(nperiods):\n",
    "        DiagAim_ctr = mit.rdmnc(os.path.join(ctrdir, 'out', 'Cpl'+str(n+2), 'Atm/DiagAim.*'))\n",
    "        DiagAim_ker = mit.rdmnc(os.path.join(kerdir, 'out', 'Cpl'+str(n+1), 'Atm/DiagAim.*'))\n",
    "        if band == 'LW':\n",
    "            deltaR[n,:,:] = DiagAim_ker['OLR'] - DiagAim_ctr['OLR']\n",
    "            deltaR_CLR[n,:,:] = DiagAim_ker['OLRCLR'] - DiagAim_ctr['OLRCLR']\n",
    "        elif band == 'SW':\n",
    "            deltaR[n,:,:] = DiagAim_ker['TSR'] - DiagAim_ctr['TSR']\n",
    "            deltaR_CLR[n,:,:] = DiagAim_ker['TSRCLR'] - DiagAim_ctr['TSRCLR']\n",
    "        pCO2 = read_kernel(filename=glob(os.path.join(kerdir, 'out', 'Cpl'+str(n+1), 'MON/pCO2StDiag.*'))[0],\n",
    "                           varname='aim_pCO2_ave')\n",
    "        delta_CO2[n,:,:] = np.squeeze(pCO2)*0.01\n",
    "    deltaR.resize(12,30,Y,X)\n",
    "    deltaR_CLR.resize(12,30,Y,X)\n",
    "    delta_CO2.resize(12,30,Y,X)\n",
    "    kernel = np.mean(deltaR/delta_CO2, axis=1)\n",
    "    kernel_CLR = np.mean(deltaR_CLR/delta_CO2, axis=1)\n",
    "    # Save kernels\n",
    "    try:\n",
    "        os.mkdir(os.path.join(datadir,'kernel',state))\n",
    "        os.chdir(os.path.join(datadir,'kernel',state))\n",
    "    except:\n",
    "        os.chdir(os.path.join(datadir,'kernel',state))\n",
    "    if band == 'LW':\n",
    "        write_kernel(filename='kernel_'+var+'_'+band+'_'+state+'.nc', \n",
    "                     varname='kernel_'+var+'_'+band, \n",
    "                     units='W/m2/ppm', \n",
    "                     varout=-kernel)\n",
    "        write_kernel(filename='kernel_'+var+'_'+band+'_CLR_'+state+'.nc', \n",
    "                     varname='kernel_'+var+'_'+band+'_CLR', \n",
    "                     units='W/m2/ppm', \n",
    "                     varout=-kernel_CLR)\n",
    "    elif band == 'SW':\n",
    "        write_kernel(filename='kernel_'+var+'_'+band+'_'+state+'.nc', \n",
    "                     varname='kernel_'+var+'_'+band, \n",
    "                     units='W/m2/ppm', \n",
    "                     varout=kernel)\n",
    "        write_kernel(filename='kernel_'+var+'_'+band+'_CLR_'+state+'.nc', \n",
    "                     varname='kernel_'+var+'_'+band+'_CLR', \n",
    "                     units='W/m2/ppm', \n",
    "                     varout=kernel_CLR)"
   ]
  },
  {
   "cell_type": "code",
   "execution_count": 19,
   "metadata": {},
   "outputs": [],
   "source": [
    "def annual_kernel(state, var, band):\n",
    "    os.chdir(os.path.join(datadir,'kernel',state))\n",
    "    kernel = read_kernel(filename='kernel_'+var+'_'+band+'_'+state+'.nc', \n",
    "                         varname='kernel_'+var+'_'+band)\n",
    "    kernel_CLR = read_kernel(filename='kernel_'+var+'_'+band+'_CLR_'+state+'.nc', \n",
    "                             varname='kernel_'+var+'_'+band+'_CLR')\n",
    "    \n",
    "    drF = grid_atm['drF']\n",
    "    if var == 'T':\n",
    "        kernel_w = np.zeros((12,Z,Y,X))\n",
    "        kernel_CLR_w = np.zeros((12,Z,Y,X))\n",
    "        for k in range(Z):\n",
    "            kernel_w[:,k,:,:] = kernel[:,k,:,:]/(drF[k]*1E-4)\n",
    "            kernel_CLR_w[:,k,:,:] = kernel_CLR[:,k,:,:]/(drF[k]*1E-4)\n",
    "        ann_kernel = np.mean(kernel_w, axis=0)\n",
    "        ann_kernel_CLR = np.mean(kernel_CLR_w, axis=0)\n",
    "    elif var == 'Q':\n",
    "        kernel_w = np.zeros((12,Z-1,Y,X))\n",
    "        kernel_CLR_w = np.zeros((12,Z-1,Y,X))\n",
    "        for k in range(Z-1):\n",
    "            kernel_w[:,k,:,:] = kernel[:,k,:,:]/(drF[k]*1E-4)\n",
    "            kernel_CLR_w[:,k,:,:] = kernel_CLR[:,k,:,:]/(drF[k]*1E-4)        \n",
    "        ann_kernel = np.mean(kernel_w, axis=0)\n",
    "        ann_kernel_CLR = np.mean(kernel_CLR_w, axis=0)\n",
    "    else:\n",
    "        ann_kernel = np.mean(kernel, axis=0)\n",
    "        ann_kernel_CLR = np.mean(kernel_CLR, axis=0)\n",
    "    return ann_kernel, ann_kernel_CLR"
   ]
  },
  {
   "cell_type": "code",
   "execution_count": 20,
   "metadata": {
    "scrolled": false
   },
   "outputs": [],
   "source": [
    "def plot_annual_kernel(state, var, band):\n",
    "    ann_kernel, ann_kernel_CLR = annual_kernel(state, var, band)\n",
    "\n",
    "    ny = 60\n",
    "    kernel, ylat, areazon = zonalKernel(grid_atm,ny)    \n",
    "    fig, ax = plt.subplots(1,2, figsize=(18,9))\n",
    "    if var == 'T':\n",
    "        ann_kernel_zonal = np.zeros((Z,ny))\n",
    "        ann_kernel_CLR_zonal = np.zeros((Z,ny))  \n",
    "        lev = grid_atm['Z'][0:Z]/100.\n",
    "        for k in range(Z):\n",
    "            ann_kernel_zonal[k,:] = zonalAvg(ann_kernel[k,:,:],kernel)\n",
    "            ann_kernel_CLR_zonal[k,:] = zonalAvg(ann_kernel_CLR[k,:,:],kernel)\n",
    "    if var == 'Q':        \n",
    "        ann_kernel_zonal = np.zeros((Z-1,ny))\n",
    "        ann_kernel_CLR_zonal = np.zeros((Z-1,ny))  \n",
    "        lev = grid_atm['Z'][0:Z-1]/100.\n",
    "        for k in range(Z-1):\n",
    "            ann_kernel_zonal[k,:] = zonalAvg(ann_kernel[k,:,:],kernel)\n",
    "            ann_kernel_CLR_zonal[k,:] = zonalAvg(ann_kernel_CLR[k,:,:],kernel)\n",
    "            \n",
    "    y, z = np.meshgrid(ylat, lev)\n",
    "    c1=ax[0].contourf(y, z, ann_kernel_zonal)\n",
    "    c2=ax[1].contourf(y, z, ann_kernel_CLR_zonal)\n",
    "\n",
    "    cbar1 = fig.colorbar(c1, ax=ax[0], orientation='horizontal')\n",
    "    cbar1.ax.tick_params(labelsize=15) \n",
    "    cbar2 = fig.colorbar(c2, ax=ax[1], orientation='horizontal')\n",
    "    cbar2.ax.tick_params(labelsize=15) \n",
    "\n",
    "    for axes in ax:\n",
    "        axes.invert_yaxis()\n",
    "        axes.set_xlabel('Latitude', fontsize=16)   \n",
    "        axes.set_ylabel('hPa', fontsize=16)\n",
    "        axes.set_xlim(-90,90)\n",
    "        axes.tick_params(axis='both', which='major', labelsize=15)\n",
    "    ax[0].set_title('Kernel_'+var+'_'+band+'_'+state, fontsize=18)\n",
    "    ax[1].set_title('Kernel_'+var+'_'+band+'_CLR_'+state, fontsize=18)"
   ]
  },
  {
   "cell_type": "code",
   "execution_count": 21,
   "metadata": {
    "scrolled": false
   },
   "outputs": [],
   "source": [
    "def plot_annual_kernel_1D(state, var, band):\n",
    "    ann_kernel, ann_kernel_CLR = annual_kernel(state, var, band)\n",
    "    \n",
    "    ny = 60\n",
    "    fig, ax = plt.subplots(1,2, figsize=(18,4))\n",
    "    kernel, ylat, areazon = zonalKernel(grid_atm,ny)\n",
    "    ann_kernel_zonal = zonalAvg(ann_kernel,kernel)\n",
    "    ann_kernel_CLR_zonal = zonalAvg(ann_kernel_CLR,kernel)\n",
    "    \n",
    "    ax[0].plot(ylat, ann_kernel_zonal)\n",
    "    ax[1].plot(ylat, ann_kernel_CLR_zonal)\n",
    "\n",
    "    for axes in ax:\n",
    "        axes.grid()\n",
    "        axes.set_xlabel('Latitude', fontsize=16)   \n",
    "        axes.set_xlim(-90,90)\n",
    "        axes.tick_params(axis='both', which='major', labelsize=15)\n",
    "    ax[0].set_title('Kernel_'+var+'_'+band+'_'+state, fontsize=18)\n",
    "    ax[1].set_title('Kernel_'+var+'_'+band+'_CLR_'+state, fontsize=18)"
   ]
  },
  {
   "cell_type": "code",
   "execution_count": 22,
   "metadata": {},
   "outputs": [],
   "source": [
    "def plot_monthly_kernel(mon, state, var, band):\n",
    "    os.chdir(os.path.join(datadir,'kernel',state))\n",
    "    mon_kernel = read_kernel(filename='kernel_'+var+'_'+band+'_'+state+'.nc', \n",
    "                             varname='kernel_'+var+'_'+band)\n",
    "    mon_kernel_CLR = read_kernel(filename='kernel_'+var+'_'+band+'_CLR_'+state+'.nc', \n",
    "                                 varname='kernel_'+var+'_'+band+'_CLR')\n",
    "    ny = 60\n",
    "    kernel, ylat, areazon = zonalKernel(grid_atm,ny)\n",
    "    fig, ax = plt.subplots(1,2, figsize=(18,6))\n",
    "    if var == 'T':\n",
    "        zonal = np.zeros((Z,ny))\n",
    "        zonal_CLR = np.zeros((Z,ny))\n",
    "        lev = grid_atm['Z'][0:Z]/100.\n",
    "        for k in range(Z):\n",
    "            zonal[k,:] = zonalAvg(mon_kernel[mon,k,:,:],kernel)\n",
    "            zonal_CLR[k,:] = zonalAvg(mon_kernel_CLR[mon,k,:,:],kernel)\n",
    "    if var == 'Q':\n",
    "        zonal = np.zeros((Z-1,ny))\n",
    "        zonal_CLR = np.zeros((Z-1,ny))\n",
    "        lev = grid_atm['Z'][0:Z-1]/100.\n",
    "        for k in range(Z-1):\n",
    "            zonal[k,:] = zonalAvg(mon_kernel[mon,k,:,:],kernel)\n",
    "            zonal_CLR[k,:] = zonalAvg(mon_kernel_CLR[mon,k,:,:],kernel)\n",
    "    \n",
    "    y, z = np.meshgrid(ylat, lev)\n",
    "    c1=ax[0].contourf(y, z, zonal)\n",
    "    c2=ax[1].contourf(y, z, zonal_CLR)\n",
    "\n",
    "    cbar1 = fig.colorbar(c1, ax=ax[0], orientation='horizontal')\n",
    "    cbar1.ax.tick_params(labelsize=15) \n",
    "    cbar2 = fig.colorbar(c2, ax=ax[1], orientation='horizontal')\n",
    "    cbar2.ax.tick_params(labelsize=15) \n",
    "\n",
    "    for axes in ax:\n",
    "        axes.invert_yaxis()\n",
    "        axes.set_xlabel('Latitude', fontsize=16)   \n",
    "        axes.set_ylabel('hPa', fontsize=16)\n",
    "        axes.set_xlim(-90,90)\n",
    "        axes.tick_params(axis='both', which='major', labelsize=15)\n",
    "    ax[0].set_title('Month '+str(mon+1)+'_kernel_'+var+'_'+band+'_'+state, fontsize=18)\n",
    "    ax[1].set_title('Month '+str(mon+1)+'_kernel_'+var+'_'+band+'_CLR_'+state, fontsize=18);"
   ]
  },
  {
   "cell_type": "code",
   "execution_count": 23,
   "metadata": {},
   "outputs": [],
   "source": [
    "def plot_monthly_kernel_1D(mon, state, var, band):\n",
    "    os.chdir(os.path.join(datadir,'kernel',state))\n",
    "    mon_kernel = read_kernel(filename='kernel_'+var+'_'+band+'_'+state+'.nc', \n",
    "                             varname='kernel_'+var+'_'+band)\n",
    "    mon_kernel_CLR = read_kernel(filename='kernel_'+var+'_'+band+'_CLR_'+state+'.nc', \n",
    "                                 varname='kernel_'+var+'_'+band+'_CLR')\n",
    "    ny = 60\n",
    "\n",
    "    fig, ax = plt.subplots(1,2, figsize=(18,4))\n",
    "    kernel, ylat, areazon = zonalKernel(grid_atm,ny)\n",
    "    zonal = zonalAvg(mon_kernel[mon,:,:],kernel)\n",
    "    zonal_CLR = zonalAvg(mon_kernel_CLR[mon,:,:],kernel)\n",
    "\n",
    "    ax[0].plot(ylat, zonal)\n",
    "    ax[1].plot(ylat, zonal_CLR) \n",
    "\n",
    "    for axes in ax:\n",
    "        axes.grid()\n",
    "        axes.set_xlabel('Latitude', fontsize=16)   \n",
    "        axes.set_xlim(-90,90)\n",
    "        axes.tick_params(axis='both', which='major', labelsize=15)\n",
    "    ax[0].set_title('Month '+str(mon+1)+'_kernel_'+var+'_'+band+'_'+state, fontsize=18)\n",
    "    ax[1].set_title('Month '+str(mon+1)+'_kernel_'+var+'_'+band+'_CLR_'+state, fontsize=18);"
   ]
  },
  {
   "cell_type": "markdown",
   "metadata": {},
   "source": [
    "## Temperature kernel"
   ]
  },
  {
   "cell_type": "markdown",
   "metadata": {},
   "source": [
    "### 1. longwave"
   ]
  },
  {
   "cell_type": "markdown",
   "metadata": {},
   "source": [
    "## *Warm*"
   ]
  },
  {
   "cell_type": "code",
   "execution_count": 31,
   "metadata": {
    "scrolled": false
   },
   "outputs": [],
   "source": [
    "calculate_kernel_T('warmT293_50', 1., 'T', 'LW')"
   ]
  },
  {
   "cell_type": "code",
   "execution_count": null,
   "metadata": {
    "scrolled": false
   },
   "outputs": [],
   "source": [
    "for state in exp_warm:\n",
    "    plot_annual_kernel(state, 'T', 'LW')"
   ]
  },
  {
   "cell_type": "markdown",
   "metadata": {},
   "source": [
    "## *Cold*"
   ]
  },
  {
   "cell_type": "code",
   "execution_count": 48,
   "metadata": {
    "scrolled": false
   },
   "outputs": [],
   "source": [
    "calculate_kernel_T('cold_1000', 1., 'T', 'LW')"
   ]
  },
  {
   "cell_type": "code",
   "execution_count": null,
   "metadata": {
    "scrolled": false
   },
   "outputs": [],
   "source": [
    "for state in exp_cold:\n",
    "    plot_annual_kernel(state, 'T', 'LW')"
   ]
  },
  {
   "cell_type": "markdown",
   "metadata": {},
   "source": [
    "## *Waterbelt*"
   ]
  },
  {
   "cell_type": "code",
   "execution_count": 25,
   "metadata": {
    "scrolled": false
   },
   "outputs": [],
   "source": [
    "calculate_kernel_T('waterbelt_350', 1., 'T', 'LW')"
   ]
  },
  {
   "cell_type": "code",
   "execution_count": null,
   "metadata": {
    "scrolled": false
   },
   "outputs": [],
   "source": [
    "for state in exp_waterbelt:\n",
    "    plot_annual_kernel(state, 'T', 'LW')"
   ]
  },
  {
   "cell_type": "markdown",
   "metadata": {},
   "source": [
    "### 2. shortwave"
   ]
  },
  {
   "cell_type": "code",
   "execution_count": 30,
   "metadata": {},
   "outputs": [],
   "source": [
    "calculate_kernel_T('warm_test16_1250', 1., 'T', 'SW')"
   ]
  },
  {
   "cell_type": "code",
   "execution_count": 17,
   "metadata": {},
   "outputs": [],
   "source": [
    "calculate_kernel_T('cold_1000', 1., 'T', 'SW')"
   ]
  },
  {
   "cell_type": "code",
   "execution_count": 27,
   "metadata": {},
   "outputs": [],
   "source": [
    "calculate_kernel_T('waterbelt_350', 1., 'T', 'SW')"
   ]
  },
  {
   "cell_type": "markdown",
   "metadata": {},
   "source": [
    "## Water vapor kernel"
   ]
  },
  {
   "cell_type": "markdown",
   "metadata": {},
   "source": [
    "### 1. longwave"
   ]
  },
  {
   "cell_type": "markdown",
   "metadata": {},
   "source": [
    "## *Warm*"
   ]
  },
  {
   "cell_type": "code",
   "execution_count": 27,
   "metadata": {},
   "outputs": [],
   "source": [
    "calculate_kernel_Q('warmT293_50', 'Q', 'LW', 0.06)"
   ]
  },
  {
   "cell_type": "code",
   "execution_count": null,
   "metadata": {
    "scrolled": false
   },
   "outputs": [],
   "source": [
    "for state in exp_warm:\n",
    "    plot_annual_kernel(state, 'Q', 'LW')"
   ]
  },
  {
   "cell_type": "markdown",
   "metadata": {},
   "source": [
    "## *Cold*"
   ]
  },
  {
   "cell_type": "code",
   "execution_count": 18,
   "metadata": {},
   "outputs": [],
   "source": [
    "calculate_kernel_Q('cold_1000', 'Q', 'LW', 0.06)"
   ]
  },
  {
   "cell_type": "code",
   "execution_count": null,
   "metadata": {
    "scrolled": false
   },
   "outputs": [],
   "source": [
    "for state in exp_cold:\n",
    "    plot_annual_kernel(state, 'Q', 'LW')"
   ]
  },
  {
   "cell_type": "markdown",
   "metadata": {},
   "source": [
    "## *Waterbelt*"
   ]
  },
  {
   "cell_type": "code",
   "execution_count": 28,
   "metadata": {},
   "outputs": [],
   "source": [
    "calculate_kernel_Q('waterbelt_350', 'Q', 'LW', 0.06)"
   ]
  },
  {
   "cell_type": "code",
   "execution_count": null,
   "metadata": {
    "scrolled": false
   },
   "outputs": [],
   "source": [
    "for state in exp_waterbelt:\n",
    "    plot_annual_kernel(state, 'Q', 'LW')"
   ]
  },
  {
   "cell_type": "markdown",
   "metadata": {},
   "source": [
    "### 2. shortwave"
   ]
  },
  {
   "cell_type": "markdown",
   "metadata": {},
   "source": [
    "## *Warm*"
   ]
  },
  {
   "cell_type": "code",
   "execution_count": 29,
   "metadata": {},
   "outputs": [],
   "source": [
    "calculate_kernel_Q('warmT293_50', 'Q', 'SW', 0.06)"
   ]
  },
  {
   "cell_type": "code",
   "execution_count": null,
   "metadata": {
    "scrolled": false
   },
   "outputs": [],
   "source": [
    "for state in exp_warm:\n",
    "    plot_annual_kernel(state, 'Q', 'SW')"
   ]
  },
  {
   "cell_type": "markdown",
   "metadata": {},
   "source": [
    "## *Cold*"
   ]
  },
  {
   "cell_type": "code",
   "execution_count": 20,
   "metadata": {},
   "outputs": [],
   "source": [
    "calculate_kernel_Q('cold_1000', 'Q', 'SW', 0.06)"
   ]
  },
  {
   "cell_type": "code",
   "execution_count": null,
   "metadata": {
    "scrolled": false
   },
   "outputs": [],
   "source": [
    "for state in exp_cold:\n",
    "    plot_annual_kernel(state, 'Q', 'SW')"
   ]
  },
  {
   "cell_type": "markdown",
   "metadata": {},
   "source": [
    "## *Waterbelt*"
   ]
  },
  {
   "cell_type": "code",
   "execution_count": 30,
   "metadata": {},
   "outputs": [],
   "source": [
    "calculate_kernel_Q('waterbelt_350', 'Q', 'SW', 0.06)"
   ]
  },
  {
   "cell_type": "code",
   "execution_count": null,
   "metadata": {
    "scrolled": false
   },
   "outputs": [],
   "source": [
    "for state in exp_waterbelt:\n",
    "    plot_annual_kernel(state, 'Q', 'SW')"
   ]
  },
  {
   "cell_type": "markdown",
   "metadata": {},
   "source": [
    "## Surface temperature kernel"
   ]
  },
  {
   "cell_type": "markdown",
   "metadata": {},
   "source": [
    "### 1. longwave"
   ]
  },
  {
   "cell_type": "markdown",
   "metadata": {},
   "source": [
    "## *Warm*"
   ]
  },
  {
   "cell_type": "code",
   "execution_count": 17,
   "metadata": {},
   "outputs": [],
   "source": [
    "calculate_kernel_surfT('warmT293_50', 1., 'surfT', 'LW')"
   ]
  },
  {
   "cell_type": "code",
   "execution_count": null,
   "metadata": {
    "scrolled": false
   },
   "outputs": [],
   "source": [
    "for state in exp_warm:\n",
    "    plot_annual_kernel_1D(state, 'surfT', 'LW')"
   ]
  },
  {
   "cell_type": "markdown",
   "metadata": {},
   "source": [
    "## *Cold*"
   ]
  },
  {
   "cell_type": "code",
   "execution_count": 22,
   "metadata": {},
   "outputs": [],
   "source": [
    "calculate_kernel_surfT('cold_1000', 1., 'surfT', 'LW')"
   ]
  },
  {
   "cell_type": "code",
   "execution_count": null,
   "metadata": {
    "scrolled": false
   },
   "outputs": [],
   "source": [
    "for state in exp_cold:\n",
    "    plot_annual_kernel_1D(state, 'surfT', 'LW')"
   ]
  },
  {
   "cell_type": "markdown",
   "metadata": {},
   "source": [
    "## *Waterbelt*"
   ]
  },
  {
   "cell_type": "code",
   "execution_count": 32,
   "metadata": {},
   "outputs": [],
   "source": [
    "calculate_kernel_surfT('waterbelt_350', 1., 'surfT', 'LW')"
   ]
  },
  {
   "cell_type": "code",
   "execution_count": null,
   "metadata": {
    "scrolled": false
   },
   "outputs": [],
   "source": [
    "for state in exp_waterbelt:\n",
    "    plot_annual_kernel_1D(state, 'surfT', 'LW')"
   ]
  },
  {
   "cell_type": "markdown",
   "metadata": {},
   "source": [
    "### 2. shortwave"
   ]
  },
  {
   "cell_type": "code",
   "execution_count": 40,
   "metadata": {},
   "outputs": [],
   "source": [
    "calculate_kernel_surfT('warm_test16_1250', 1., 'surfT', 'SW')"
   ]
  },
  {
   "cell_type": "code",
   "execution_count": 24,
   "metadata": {},
   "outputs": [],
   "source": [
    "calculate_kernel_surfT('cold_1000', 1., 'surfT', 'SW')"
   ]
  },
  {
   "cell_type": "code",
   "execution_count": 34,
   "metadata": {},
   "outputs": [],
   "source": [
    "calculate_kernel_surfT('waterbelt_350', 1., 'surfT', 'SW')"
   ]
  },
  {
   "cell_type": "markdown",
   "metadata": {},
   "source": [
    "## Surface albedo kernel"
   ]
  },
  {
   "cell_type": "markdown",
   "metadata": {},
   "source": [
    "### 1. longwave"
   ]
  },
  {
   "cell_type": "code",
   "execution_count": 41,
   "metadata": {},
   "outputs": [],
   "source": [
    "calculate_kernel_ALB('warm_test16_1250', 'ALB', 'LW')"
   ]
  },
  {
   "cell_type": "code",
   "execution_count": 25,
   "metadata": {},
   "outputs": [],
   "source": [
    "calculate_kernel_ALB('cold_1000', 'ALB', 'LW')"
   ]
  },
  {
   "cell_type": "code",
   "execution_count": 35,
   "metadata": {},
   "outputs": [],
   "source": [
    "calculate_kernel_ALB('waterbelt_350', 'ALB', 'LW')"
   ]
  },
  {
   "cell_type": "markdown",
   "metadata": {},
   "source": [
    "### 2. shortwave"
   ]
  },
  {
   "cell_type": "markdown",
   "metadata": {},
   "source": [
    "## *Warm*"
   ]
  },
  {
   "cell_type": "code",
   "execution_count": 23,
   "metadata": {},
   "outputs": [],
   "source": [
    "calculate_kernel_ALB('warmT293_50', 'ALB', 'SW')"
   ]
  },
  {
   "cell_type": "code",
   "execution_count": null,
   "metadata": {
    "scrolled": false
   },
   "outputs": [],
   "source": [
    "for state in exp_warm:\n",
    "    plot_annual_kernel_1D(state, 'ALB', 'SW')"
   ]
  },
  {
   "cell_type": "markdown",
   "metadata": {},
   "source": [
    "## *Cold*"
   ]
  },
  {
   "cell_type": "code",
   "execution_count": 26,
   "metadata": {},
   "outputs": [],
   "source": [
    "calculate_kernel_ALB('cold_1000', 'ALB', 'SW')"
   ]
  },
  {
   "cell_type": "code",
   "execution_count": null,
   "metadata": {},
   "outputs": [],
   "source": [
    "for state in exp_cold:\n",
    "    plot_annual_kernel_1D(state, 'ALB', 'SW')"
   ]
  },
  {
   "cell_type": "markdown",
   "metadata": {},
   "source": [
    "## *Waterbelt*"
   ]
  },
  {
   "cell_type": "code",
   "execution_count": 36,
   "metadata": {},
   "outputs": [],
   "source": [
    "calculate_kernel_ALB('waterbelt_350', 'ALB', 'SW')"
   ]
  },
  {
   "cell_type": "code",
   "execution_count": null,
   "metadata": {
    "scrolled": false
   },
   "outputs": [],
   "source": [
    "for state in exp_waterbelt:\n",
    "    plot_annual_kernel_1D(state, 'ALB', 'SW')"
   ]
  },
  {
   "cell_type": "markdown",
   "metadata": {},
   "source": [
    "## CO2 kernel"
   ]
  },
  {
   "cell_type": "markdown",
   "metadata": {},
   "source": [
    "### 1. longwave"
   ]
  },
  {
   "cell_type": "markdown",
   "metadata": {},
   "source": [
    "## *Warm*"
   ]
  },
  {
   "cell_type": "code",
   "execution_count": 25,
   "metadata": {},
   "outputs": [],
   "source": [
    "calculate_kernel_CO2('warmT293_50', 'CO2', 'LW')"
   ]
  },
  {
   "cell_type": "code",
   "execution_count": null,
   "metadata": {
    "scrolled": false
   },
   "outputs": [],
   "source": [
    "for state in exp_warm:\n",
    "    plot_annual_kernel_1D(state, 'CO2', 'LW')"
   ]
  },
  {
   "cell_type": "markdown",
   "metadata": {},
   "source": [
    "## *Cold*"
   ]
  },
  {
   "cell_type": "code",
   "execution_count": 28,
   "metadata": {},
   "outputs": [],
   "source": [
    "calculate_kernel_CO2('cold_1000', 'CO2', 'LW')"
   ]
  },
  {
   "cell_type": "code",
   "execution_count": null,
   "metadata": {
    "scrolled": false
   },
   "outputs": [],
   "source": [
    "for state in exp_cold:\n",
    "    plot_annual_kernel_1D(state, 'CO2', 'LW')"
   ]
  },
  {
   "cell_type": "markdown",
   "metadata": {},
   "source": [
    "## *Waterbelt*"
   ]
  },
  {
   "cell_type": "code",
   "execution_count": 38,
   "metadata": {},
   "outputs": [],
   "source": [
    "calculate_kernel_CO2('waterbelt_350', 'CO2', 'LW')"
   ]
  },
  {
   "cell_type": "code",
   "execution_count": null,
   "metadata": {
    "scrolled": false
   },
   "outputs": [],
   "source": [
    "for state in exp_waterbelt:\n",
    "    plot_annual_kernel_1D(state, 'CO2', 'LW')"
   ]
  },
  {
   "cell_type": "markdown",
   "metadata": {},
   "source": [
    "### 2. shortwave"
   ]
  },
  {
   "cell_type": "code",
   "execution_count": 48,
   "metadata": {},
   "outputs": [],
   "source": [
    "calculate_kernel_CO2('warm_test16_1250', 'CO2', 'SW')"
   ]
  },
  {
   "cell_type": "code",
   "execution_count": 30,
   "metadata": {},
   "outputs": [],
   "source": [
    "calculate_kernel_CO2('cold_1000', 'CO2', 'SW')"
   ]
  },
  {
   "cell_type": "code",
   "execution_count": 46,
   "metadata": {},
   "outputs": [],
   "source": [
    "calculate_kernel_CO2('waterbelt_350', 'CO2', 'SW')"
   ]
  },
  {
   "cell_type": "markdown",
   "metadata": {},
   "source": [
    "## Read kernels"
   ]
  },
  {
   "cell_type": "code",
   "execution_count": 25,
   "metadata": {},
   "outputs": [],
   "source": [
    "plist = {}\n",
    "run_list = ['radCO2_warm_pco2','radCO2_pC200_SC338_cold','radCO2_waterbelt_pco2']\n",
    "exp_list = ['warm_test16_1250','cold_950','waterbelt_550']\n",
    "\n",
    "for ind in range(3):\n",
    "    run = run_list[ind]\n",
    "    exp = exp_list[ind]\n",
    "\n",
    "    plist[exp+'kernel_T_LW'] = np.mean(read_kernel(os.path.join(datadir,'kernel',exp,\n",
    "                               'kernel_T_LW_'+exp+'.nc'), 'kernel_T_LW'), axis=0)\n",
    "    plist[exp+'kernel_surfT_LW'] = np.mean(read_kernel(os.path.join(datadir,'kernel',exp,\n",
    "                                   'kernel_surfT_LW_'+exp+'.nc'), 'kernel_surfT_LW'), axis=0)\n",
    "    plist[exp+'kernel_Q_LW'] = np.mean(read_kernel(os.path.join(datadir,'kernel',exp,\n",
    "                               'kernel_Q_LW_'+exp+'.nc'), 'kernel_Q_LW'), axis=0)\n",
    "    plist[exp+'kernel_Q_SW'] = np.mean(read_kernel(os.path.join(datadir,'kernel',exp,\n",
    "                               'kernel_Q_SW_'+exp+'.nc'), 'kernel_Q_SW'), axis=0)\n",
    "    plist[exp+'kernel_ALB_SW'] = np.mean(read_kernel(os.path.join(datadir,'kernel',exp,\n",
    "                                 'kernel_ALB_SW_'+exp+'.nc'), 'kernel_ALB_SW'), axis=0)\n",
    "    plist[exp+'kernel_CO2_LW'] = np.mean(read_kernel(os.path.join(datadir,'kernel',exp,\n",
    "                                 'kernel_CO2_LW_'+exp+'.nc'), 'kernel_CO2_LW'), axis=0)"
   ]
  },
  {
   "cell_type": "markdown",
   "metadata": {},
   "source": [
    "## Plot kernels"
   ]
  },
  {
   "cell_type": "code",
   "execution_count": 120,
   "metadata": {},
   "outputs": [],
   "source": [
    "level_list = ['kernel_T_LW',\n",
    "              'kernel_Q_LW',\n",
    "              'kernel_Q_SW',\n",
    "             ]\n",
    "\n",
    "limit = {}\n",
    "level = {}\n",
    "limit['kernel_T_LW'] = [-0.54,0.06]\n",
    "limit['kernel_surfT_LW'] = [-1.8,-0.1]\n",
    "limit['kernel_Q_LW'] = [-32.,28.]\n",
    "limit['kernel_Q_SW'] = [0.,1.]\n",
    "limit['kernel_ALB_SW'] = [-2.85,-0.7]\n",
    "limit['kernel_CO2_LW'] = [0.001,0.031]\n",
    "\n",
    "for item in level_list:\n",
    "    level[item] = np.arange(limit[item][0], limit[item][1], (limit[item][1]-limit[item][0])/10)\n",
    "\n",
    "plot_kernel = ['kernel_T_LW',\n",
    "               'kernel_surfT_LW',\n",
    "               'kernel_Q_LW',\n",
    "               'kernel_Q_SW',\n",
    "               'kernel_ALB_SW',\n",
    "               'kernel_CO2_LW',\n",
    "              ]\n",
    "\n",
    "unit = {}\n",
    "unit['kernel_T_LW'] = '[W m$^{-2}$ K$^{-1}$ (100 hPa)$^{-1}$]'\n",
    "unit['kernel_surfT_LW'] = 'W m$^{-2}$ K$^{-1}$'\n",
    "unit['kernel_Q_LW'] = '[W m$^{-2}$ K$^{-1}$ (g/kg)$^{-1}$ (100 hPa)$^{-1}$]'\n",
    "unit['kernel_Q_SW'] = '[W m$^{-2}$ K$^{-1}$ (g/kg)$^{-1}$ (100 hPa)$^{-1}$]'\n",
    "unit['kernel_ALB_SW'] = 'W m$^{-2}$ K$^{-1}$ 0.01$^{-1}$'\n",
    "unit['kernel_CO2_LW'] = 'W m$^{-2}$ K$^{-1}$ ppm$^{-1}$'\n",
    "\n",
    "label_title = {}\n",
    "label_title['kernel_T_LW'] = 'Kernel: Air T '\n",
    "label_title['kernel_surfT_LW'] = 'Kernel: Surf. T '\n",
    "label_title['kernel_Q_LW'] = 'Kernel: WV LW '\n",
    "label_title['kernel_Q_SW'] = 'Kernel: WV SW '\n",
    "label_title['kernel_ALB_SW'] = 'Kernel: Albedo '\n",
    "label_title['kernel_CO2_LW'] = 'Kernel: CO$_2$ '\n",
    "\n",
    "label_state=['(Warm)',\n",
    "             '(Cold)',\n",
    "             '(Waterbelt)',\n",
    "            ]"
   ]
  },
  {
   "cell_type": "code",
   "execution_count": 127,
   "metadata": {},
   "outputs": [],
   "source": [
    "def plot_spatial_kernel(item, exp):       \n",
    "    if plist[exp[0]+item].ndim == 3:\n",
    "        for j in range(len(exp)):\n",
    "            var = plist[exp[j]+item]\n",
    "            var = np.where(np.isnan(var), 0., var)\n",
    "            nlev = var.shape[0] \n",
    "            # mass weighted\n",
    "            drF = grid_atm['drF']\n",
    "            for k in range(nlev):\n",
    "                var[k,:,:] = var[k,:,:]/(drF[k]*1E-4)\n",
    "            # zonal average    \n",
    "            ny = 60\n",
    "            kernel, ylat, area = zonalKernel(grid_atm,ny) \n",
    "            var_zonal = np.zeros((nlev,ny))\n",
    "            for k in range(nlev):\n",
    "                var_zonal[k,:] = zonalAvg(var[k,:,:],kernel)\n",
    "            lev = grid_atm['Z'][0:nlev]/100.\n",
    "            y, z = np.meshgrid(ylat, lev)\n",
    "            c=axs[j].contourf(y, z, var_zonal, levels=level[item], extend='both', cmap='PRGn')\n",
    "            axs[j].contour(y, z, var_zonal, levels=[0.], linewidths=2, colors='wheat')\n",
    "            #cbar = fig.colorbar(c, ax=axs[i,j], orientation='vertical')\n",
    "            axs[j].invert_yaxis()\n",
    "            axs[0].set_xlabel('Latitude', fontsize=14)\n",
    "            axs[0].set_ylabel('hPa', fontsize=14, labelpad=21)\n",
    "            axs[j].set_xlim(-90,90)\n",
    "            axs[j].set_title(label_title[item]+label_state[j], fontsize=15, fontweight='bold')\n",
    "            axs[j].tick_params(axis='both', which='major', labelsize=12)\n",
    "        fig.subplots_adjust(bottom=0.2)\n",
    "#         cax = fig.add_axes([0.315, 0.075, 0.4, 0.04])\n",
    "        cax = fig.add_axes([0.354, 0.075, 0.32, 0.04])\n",
    "        cbar = fig.colorbar(c, cax=cax, orientation='horizontal')\n",
    "#         cbar.set_label(unit[item], fontsize=14, fontweight='bold', labelpad=-15, x=1.2)\n",
    "        cbar.set_label(unit[item], fontsize=13, fontweight='bold', labelpad=-18, x=1.35)\n",
    "        cbar.ax.tick_params(labelsize=12)\n",
    "    \n",
    "    elif plist[exp[0]+item].ndim == 2:\n",
    "        for j in range(len(exp)):\n",
    "            var = plist[exp[j]+item]\n",
    "            var = np.where(np.isnan(var), 0., var)\n",
    "            # zonal average    \n",
    "            ny = 60\n",
    "            kernel, ylat, area = zonalKernel(grid_atm,ny) \n",
    "            var_zonal = zonalAvg(var,kernel)\n",
    "            if item == 'kernel_ALB_SW':\n",
    "                axs[j].plot(ylat, var_zonal/100., color='k', linewidth=2)\n",
    "                axs[0].set_ylabel(unit[item], fontsize=14, labelpad=10)\n",
    "            else:\n",
    "                axs[j].plot(ylat, var_zonal, color='k', linewidth=2)\n",
    "                axs[0].set_ylabel(unit[item], fontsize=14)\n",
    "            axs[j].set_xlabel('Latitude', fontsize=14, labelpad=-1)\n",
    "            axs[j].hlines(y=0., xmin=-90, xmax=90, colors='r', linestyles='dotted')\n",
    "            axs[j].set_xlim(-90,90)\n",
    "            axs[j].set_ylim(limit[item])\n",
    "            axs[j].set_title(label_title[item]+label_state[j], fontsize=15, fontweight='bold')\n",
    "            axs[j].tick_params(axis='both', which='major', labelsize=12)"
   ]
  },
  {
   "cell_type": "code",
   "execution_count": 128,
   "metadata": {},
   "outputs": [
    {
     "name": "stderr",
     "output_type": "stream",
     "text": [
      "/kt11/ktyle/anaconda3_2001/envs/jun20/lib/python3.7/site-packages/ipykernel_launcher.py:20: UserWarning: No contour levels were found within the data range.\n",
      "/kt11/ktyle/anaconda3_2001/envs/jun20/lib/python3.7/site-packages/ipykernel_launcher.py:20: UserWarning: No contour levels were found within the data range.\n",
      "/kt11/ktyle/anaconda3_2001/envs/jun20/lib/python3.7/site-packages/ipykernel_launcher.py:20: UserWarning: No contour levels were found within the data range.\n"
     ]
    },
    {
     "data": {
      "image/png": "[encoded data removed]",
      "text/plain": [
       "<Figure size 1152x252 with 4 Axes>"
      ]
     },
     "metadata": {
      "needs_background": "light"
     },
     "output_type": "display_data"
    },
    {
     "data": {
      "image/png": "[encoded data removed]",
      "text/plain": [
       "<Figure size 1152x252 with 3 Axes>"
      ]
     },
     "metadata": {
      "needs_background": "light"
     },
     "output_type": "display_data"
    },
    {
     "data": {
      "image/png": "[encoded data removed]",
      "text/plain": [
       "<Figure size 1152x252 with 4 Axes>"
      ]
     },
     "metadata": {
      "needs_background": "light"
     },
     "output_type": "display_data"
    },
    {
     "data": {
      "image/png": "[encoded data removed]",
      "text/plain": [
       "<Figure size 1152x252 with 4 Axes>"
      ]
     },
     "metadata": {
      "needs_background": "light"
     },
     "output_type": "display_data"
    },
    {
     "data": {
      "image/png": "[encoded data removed]",
      "text/plain": [
       "<Figure size 1152x252 with 3 Axes>"
      ]
     },
     "metadata": {
      "needs_background": "light"
     },
     "output_type": "display_data"
    },
    {
     "data": {
      "image/png": "[encoded data removed]",
      "text/plain": [
       "<Figure size 1152x252 with 3 Axes>"
      ]
     },
     "metadata": {
      "needs_background": "light"
     },
     "output_type": "display_data"
    }
   ],
   "source": [
    "os.chdir('/nfs/home11/grad/2017/fz172169/0notebook')\n",
    "exp = ['warm_test16_1250','cold_950','waterbelt_550']\n",
    "for i in range(len(plot_kernel)):\n",
    "    fig, axs = plt.subplots(1, 3, figsize=(16,3.5))\n",
    "    plot_spatial_kernel(plot_kernel[i], exp)\n",
    "#     fig.savefig(plot_kernel[i]+'.pdf')"
   ]
  },
  {
   "cell_type": "code",
   "execution_count": null,
   "metadata": {},
   "outputs": [],
   "source": []
  }
 ],
 "metadata": {
  "kernelspec": {
   "display_name": "Python 3 June 2020 Environment",
   "language": "python",
   "name": "jun20"
  },
  "language_info": {
   "codemirror_mode": {
    "name": "ipython",
    "version": 3
   },
   "file_extension": ".py",
   "mimetype": "text/x-python",
   "name": "python",
   "nbconvert_exporter": "python",
   "pygments_lexer": "ipython3",
   "version": "3.7.6"
  }
 },
 "nbformat": 4,
 "nbformat_minor": 2
}
